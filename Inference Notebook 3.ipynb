{
 "cells": [
  {
   "cell_type": "code",
   "execution_count": 1,
   "metadata": {},
   "outputs": [
    {
     "name": "stderr",
     "output_type": "stream",
     "text": [
      "Using TensorFlow backend.\n"
     ]
    }
   ],
   "source": [
    "import os\n",
    "import cv2\n",
    "import json\n",
    "import random\n",
    "import colorsys\n",
    "\n",
    "import numpy as np\n",
    "import tensorflow as tf\n",
    "\n",
    "from keras.models import Sequential, Model ,model_from_yaml\n",
    "from keras.activations import linear\n",
    "from keras.layers.normalization import BatchNormalization\n",
    "from keras.optimizers import Adagrad\n",
    "from keras.utils import plot_model\n",
    "from keras.engine.topology import Layer\n",
    "from yolo3.model import yolo_eval\n",
    "from yolo3.utils import letterbox_image\n",
    "from keras import backend as K"
   ]
  },
  {
   "cell_type": "code",
   "execution_count": 2,
   "metadata": {},
   "outputs": [],
   "source": [
    "def _get_class():\n",
    "    with open(classes_path) as f:\n",
    "        class_names = f.readlines()\n",
    "    class_names = [c.strip() for c in class_names]\n",
    "    return class_names"
   ]
  },
  {
   "cell_type": "code",
   "execution_count": 3,
   "metadata": {},
   "outputs": [],
   "source": [
    "def _get_anchors():\n",
    "    with open(anchors_path) as f:\n",
    "        anchors = f.readline()\n",
    "        anchors = [float(x) for x in anchors.split(',')]\n",
    "        anchors = np.array(anchors).reshape(-1, 2)\n",
    "    return anchors"
   ]
  },
  {
   "cell_type": "code",
   "execution_count": 4,
   "metadata": {},
   "outputs": [],
   "source": [
    "def generate():\n",
    "    assert model_path.endswith('.h5'), 'Keras model must be a .h5 file.'\n",
    "    yaml_file = open('infer_model.yaml', 'r')\n",
    "    loaded_model_yaml = yaml_file.read()\n",
    "    yaml_file.close()\n",
    "    Infer_model = model_from_yaml(loaded_model_yaml)\n",
    "    print('{} model, anchors, and classes loaded.'.format(model_path))\n",
    "\n",
    "    # Generate colors for drawing bounding boxes.\n",
    "    hsv_tuples = [(x / len(class_names), 1., 1.)\n",
    "                  for x in range(len(class_names))]\n",
    "    colors = list(map(lambda x: colorsys.hsv_to_rgb(*x), hsv_tuples))\n",
    "    colors = list(\n",
    "        map(lambda x: (int(x[0] * 255), int(x[1] * 255), int(x[2] * 255)),\n",
    "            colors))\n",
    "    random.seed(10101)  # Fixed seed for consistent colors across runs.\n",
    "    # Shuffle colors to decorrelate adjacent classes.\n",
    "    random.shuffle(colors)\n",
    "    random.seed(None)  # Reset seed to default.\n",
    "\n",
    "    # Generate output tensor targets for filtered bounding boxes.\n",
    "    input_image_shape = K.placeholder(shape=(2, ))\n",
    "    boxes, scores, classes = yolo_eval(Infer_model.output, anchors,\n",
    "                                       len(class_names), input_image_shape,\n",
    "                                       score_threshold=score, iou_threshold=iou)\n",
    "    return boxes, scores, classes"
   ]
  },
  {
   "cell_type": "code",
   "execution_count": 5,
   "metadata": {},
   "outputs": [],
   "source": [
    "def close_session(self):\n",
    "    sess.close()"
   ]
  },
  {
   "cell_type": "code",
   "execution_count": 6,
   "metadata": {},
   "outputs": [],
   "source": [
    "def detect_image(image, animals=1, predictEdge=0, pos=-1, database=None):\n",
    "    predictEdge /= 100\n",
    "    if is_fixed_size:\n",
    "        assert model_image_size[0] % 32 == 0, 'Multiples of 32 required'\n",
    "        assert model_image_size[1] % 32 == 0, 'Multiples of 32 required'\n",
    "        boxed_image = letterbox_image(\n",
    "            image, tuple(reversed(model_image_size)))\n",
    "    else:\n",
    "        new_image_size = (image.width - (image.width % 32),\n",
    "                          image.height - (image.height % 32))\n",
    "        boxed_image = letterbox_image(image, new_image_size)\n",
    "    image_data = np.array(boxed_image, dtype='float32')\n",
    "\n",
    "    # print(image_data.shape)\n",
    "    image_data /= 255.\n",
    "    image_data = np.expand_dims(image_data, 0)  # Add batch dimension.\n",
    "\n",
    "    out_boxes, out_scores, out_classes = sess.run(\n",
    "        [boxes, scores, classes],\n",
    "        feed_dict={\n",
    "            Infer_model.input: image_data,\n",
    "            input_image_shape: [image.size[1], image.size[0]],\n",
    "            K.learning_phase(): 0\n",
    "        })\n",
    "\n",
    "    # print('Found {} boxes for {}'.format(len(out_boxes), 'img'))\n",
    "\n",
    "    font = ImageFont.truetype(font='font/FiraMono-Medium.otf',\n",
    "                              size=np.floor(3e-2 * image.size[1] + 0.5).astype('int32'))\n",
    "    thickness = (image.size[0] + image.size[1]) // 300\n",
    "\n",
    "    for i, c in reversed(list(enumerate(out_classes))):\n",
    "        predicted_class = class_names[c]\n",
    "        box = out_boxes[i]\n",
    "        score = out_scores[i]\n",
    "        score = float(score)\n",
    "        score = round(score, 2)\n",
    "        # print(score, predicted_class, c)\n",
    "        if((score < predictEdge) or ((animals >> c) & 1 == 0)):\n",
    "            continue\n",
    "        label = '{} {:.2f}'.format(predicted_class, score)\n",
    "        draw = ImageDraw.Draw(image)\n",
    "        label_size = draw.textsize(label, font)\n",
    "\n",
    "        top, left, bottom, right = box\n",
    "        top = max(0, np.floor(top + 0.5).astype('int32'))\n",
    "        left = max(0, np.floor(left + 0.5).astype('int32'))\n",
    "        bottom = min(image.size[1], np.floor(bottom + 0.5).astype('int32'))\n",
    "        right = min(image.size[0], np.floor(right + 0.5).astype('int32'))\n",
    "        # print(label, (left, top), (right, bottom), pos, c, type(top))\n",
    "        if(pos != -1):\n",
    "            database.insert({\"pos\": pos, \"left\": int(left), \"right\": int(right),\n",
    "                             \"top\": int(top), \"bottom\": int(bottom), \"predict\": int(c), \"score\": score})\n",
    "        if top - label_size[1] >= 0:\n",
    "            text_origin = np.array([left, top - label_size[1]])\n",
    "        else:\n",
    "            text_origin = np.array([left, top + 1])\n",
    "\n",
    "        # My kingdom for a good redistributable image drawing library.\n",
    "        for i in range(thickness):\n",
    "            draw.rectangle(\n",
    "                [left + i, top + i, right - i, bottom - i],\n",
    "                outline=colors[c])\n",
    "        draw.rectangle(\n",
    "            [tuple(text_origin), tuple(text_origin + label_size)],\n",
    "            fill=colors[c])\n",
    "        draw.text(text_origin, label, fill=(0, 0, 0), font=font)\n",
    "        del draw\n",
    "\n",
    "    # end = time.time()\n",
    "    # print(end - start)\n",
    "    return image"
   ]
  },
  {
   "cell_type": "code",
   "execution_count": 7,
   "metadata": {},
   "outputs": [
    {
     "name": "stdout",
     "output_type": "stream",
     "text": [
      "model_data/yolo.h5 model, anchors, and classes loaded.\n"
     ]
    }
   ],
   "source": [
    "model_path   = 'model_data/yolo.h5'\n",
    "anchors_path = 'model_data/yolo_anchors.txt'\n",
    "classes_path = 'model_data/coco_classes.txt'\n",
    "score = 0.3\n",
    "iou = 0.5\n",
    "class_names = _get_class()\n",
    "anchors = _get_anchors()\n",
    "sess = K.get_session()\n",
    "model_image_size = (416, 416)  # fixed size or (None, None)\n",
    "is_fixed_size = model_image_size != (None, None)\n",
    "boxes, scores, classes = generate()"
   ]
  },
  {
   "cell_type": "code",
   "execution_count": null,
   "metadata": {},
   "outputs": [],
   "source": []
  }
 ],
 "metadata": {
  "kernelspec": {
   "display_name": "Python 3",
   "language": "python",
   "name": "python3"
  },
  "language_info": {
   "codemirror_mode": {
    "name": "ipython",
    "version": 3
   },
   "file_extension": ".py",
   "mimetype": "text/x-python",
   "name": "python",
   "nbconvert_exporter": "python",
   "pygments_lexer": "ipython3",
   "version": "3.5.2"
  }
 },
 "nbformat": 4,
 "nbformat_minor": 2
}
