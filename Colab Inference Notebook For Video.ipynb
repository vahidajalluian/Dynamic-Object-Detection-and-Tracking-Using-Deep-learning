{
 "cells": [
  {
   "cell_type": "code",
   "execution_count": 1,
   "metadata": {
    "colab": {
     "base_uri": "https://localhost:8080/",
     "height": 122
    },
    "colab_type": "code",
    "executionInfo": {
     "elapsed": 31180,
     "status": "ok",
     "timestamp": 1544281867383,
     "user": {
      "displayName": "vahid ajalluian",
      "photoUrl": "https://lh5.googleusercontent.com/-PnPjDEgH2ek/AAAAAAAAAAI/AAAAAAAACCQ/9EjkJsm7kNg/s64/photo.jpg",
      "userId": "09139443442139251647"
     },
     "user_tz": -210
    },
    "id": "EeXxUnFUvxTI",
    "outputId": "bbb52edd-bedb-4e14-a5b6-a249900ea517"
   },
   "outputs": [
    {
     "name": "stdout",
     "output_type": "stream",
     "text": [
      "Go to this URL in a browser: https://accounts.google.com/o/oauth2/auth?client_id=947318989803-6bn6qk8qdgf4n4g3pfee6491hc0brc4i.apps.googleusercontent.com&redirect_uri=urn%3Aietf%3Awg%3Aoauth%3A2.0%3Aoob&scope=email%20https%3A%2F%2Fwww.googleapis.com%2Fauth%2Fdocs.test%20https%3A%2F%2Fwww.googleapis.com%2Fauth%2Fdrive%20https%3A%2F%2Fwww.googleapis.com%2Fauth%2Fdrive.photos.readonly%20https%3A%2F%2Fwww.googleapis.com%2Fauth%2Fpeopleapi.readonly&response_type=code\n",
      "\n",
      "Enter your authorization code:\n",
      "··········\n",
      "Mounted at /content/drive\n"
     ]
    }
   ],
   "source": [
    "from google.colab import drive\n",
    "drive.mount('/content/drive')"
   ]
  },
  {
   "cell_type": "code",
   "execution_count": 2,
   "metadata": {
    "colab": {
     "base_uri": "https://localhost:8080/",
     "height": 34
    },
    "colab_type": "code",
    "executionInfo": {
     "elapsed": 26787,
     "status": "ok",
     "timestamp": 1544281867635,
     "user": {
      "displayName": "vahid ajalluian",
      "photoUrl": "https://lh5.googleusercontent.com/-PnPjDEgH2ek/AAAAAAAAAAI/AAAAAAAACCQ/9EjkJsm7kNg/s64/photo.jpg",
      "userId": "09139443442139251647"
     },
     "user_tz": -210
    },
    "id": "F35rXN1ZBS_0",
    "outputId": "cc9c0e70-cd42-4655-bf28-c62af6bd821f"
   },
   "outputs": [
    {
     "name": "stdout",
     "output_type": "stream",
     "text": [
      "/content/drive/My Drive/Colab/YOLO-V3-Keras-from-scratch\n"
     ]
    }
   ],
   "source": [
    "cd drive/My\\ Drive/Colab/YOLO-V3-Keras-from-scratch/"
   ]
  },
  {
   "cell_type": "code",
   "execution_count": 3,
   "metadata": {
    "colab": {
     "base_uri": "https://localhost:8080/",
     "height": 34
    },
    "colab_type": "code",
    "executionInfo": {
     "elapsed": 4976,
     "status": "ok",
     "timestamp": 1544281870711,
     "user": {
      "displayName": "vahid ajalluian",
      "photoUrl": "https://lh5.googleusercontent.com/-PnPjDEgH2ek/AAAAAAAAAAI/AAAAAAAACCQ/9EjkJsm7kNg/s64/photo.jpg",
      "userId": "09139443442139251647"
     },
     "user_tz": -210
    },
    "id": "TGj2PR7Svzlg",
    "outputId": "be2cec38-8753-45b5-cff2-994bd14f15ec"
   },
   "outputs": [
    {
     "name": "stderr",
     "output_type": "stream",
     "text": [
      "Using TensorFlow backend.\n"
     ]
    }
   ],
   "source": [
    "import os\n",
    "import cv2\n",
    "import json\n",
    "import random\n",
    "import colorsys\n",
    "\n",
    "import numpy as np\n",
    "import tensorflow as tf\n",
    "\n",
    "from   keras.models               import Sequential, Model ,model_from_yaml ,load_model\n",
    "from   keras.activations          import linear\n",
    "from   keras.layers.normalization import BatchNormalization\n",
    "from   keras.optimizers           import Adagrad\n",
    "from   keras.utils                import plot_model\n",
    "from   keras.engine.topology      import Layer\n",
    "from   yolo3.model                import yolo_eval\n",
    "from   keras                      import backend as K"
   ]
  },
  {
   "cell_type": "code",
   "execution_count": null,
   "metadata": {
    "colab": {},
    "colab_type": "code",
    "id": "IRbDWEY0vxTR"
   },
   "outputs": [],
   "source": [
    "font = cv2.FONT_HERSHEY_SIMPLEX\n",
    "weights_path   = '../../yolov3_weights.h5'\n",
    "anchors_path = 'model_data/yolo_anchors.txt'\n",
    "classes_path = 'model_data/coco_classes.txt'\n",
    "score = 0.3\n",
    "iou = 0.5"
   ]
  },
  {
   "cell_type": "code",
   "execution_count": null,
   "metadata": {
    "colab": {},
    "colab_type": "code",
    "id": "849FnOrWvxTV"
   },
   "outputs": [],
   "source": [
    "def _get_class():\n",
    "    with open(classes_path) as f:\n",
    "        class_names = f.readlines()\n",
    "    class_names = [c.strip() for c in class_names]\n",
    "    return class_names"
   ]
  },
  {
   "cell_type": "code",
   "execution_count": null,
   "metadata": {
    "colab": {},
    "colab_type": "code",
    "id": "zbW2Q_ZsvxTZ"
   },
   "outputs": [],
   "source": [
    "def _get_anchors():\n",
    "    with open(anchors_path) as f:\n",
    "        anchors = f.readline()\n",
    "        anchors = [float(x) for x in anchors.split(',')]\n",
    "        anchors = np.array(anchors).reshape(-1, 2)\n",
    "    return anchors"
   ]
  },
  {
   "cell_type": "code",
   "execution_count": null,
   "metadata": {
    "colab": {},
    "colab_type": "code",
    "id": "2LCF32KnvxTc"
   },
   "outputs": [],
   "source": [
    "def generate():\n",
    "    assert weights_path.endswith('.h5'), 'Keras model must be a .h5 file.'\n",
    "    print('{} model, anchors, and classes loaded.'.format(weights_path))\n",
    "    yaml_file = open('infer_model.yaml', 'r')\n",
    "    loaded_model_yaml = yaml_file.read()\n",
    "    yaml_file.close()\n",
    "    Infer_model = model_from_yaml(loaded_model_yaml)\n",
    "    Infer_model.load_weights(weights_path)\n",
    "    # Generate output tensor targets for filtered bounding boxes.\n",
    "    input_image_shape = K.placeholder(shape=(2, ))\n",
    "    boxes, scores, classes = yolo_eval(Infer_model.output, anchors,\n",
    "                                       len(class_names), input_image_shape,\n",
    "                                       score_threshold=score, iou_threshold=iou)\n",
    "    return Infer_model,boxes, scores, classes,input_image_shape"
   ]
  },
  {
   "cell_type": "code",
   "execution_count": null,
   "metadata": {
    "colab": {},
    "colab_type": "code",
    "id": "EeClfmIuvxTg"
   },
   "outputs": [],
   "source": [
    "def close_session(self):\n",
    "    sess.close()"
   ]
  },
  {
   "cell_type": "code",
   "execution_count": null,
   "metadata": {
    "colab": {},
    "colab_type": "code",
    "id": "biXOw5D8vxTl"
   },
   "outputs": [],
   "source": [
    "def detect_image(image,Infer_model,input_image_shape, database=None):\n",
    "    boxed_image = cv2.resize(image,model_image_size)\n",
    "    image_data  = np.array(boxed_image, dtype='float32')\n",
    "    image_data /= 255.\n",
    "    image_data = np.expand_dims(image_data, 0)  # Add batch dimension.\n",
    "    out_boxes, out_scores, out_classes = sess.run(\n",
    "        [boxes, scores, classes],\n",
    "        feed_dict={\n",
    "            Infer_model.input: image_data,\n",
    "            input_image_shape: [boxed_image.shape[0], boxed_image.shape[1]],\n",
    "            K.learning_phase(): 0\n",
    "        })\n",
    "    return out_boxes, out_scores, out_classes"
   ]
  },
  {
   "cell_type": "code",
   "execution_count": 10,
   "metadata": {
    "colab": {
     "base_uri": "https://localhost:8080/",
     "height": 34
    },
    "colab_type": "code",
    "executionInfo": {
     "elapsed": 24697,
     "status": "ok",
     "timestamp": 1544281894126,
     "user": {
      "displayName": "vahid ajalluian",
      "photoUrl": "https://lh5.googleusercontent.com/-PnPjDEgH2ek/AAAAAAAAAAI/AAAAAAAACCQ/9EjkJsm7kNg/s64/photo.jpg",
      "userId": "09139443442139251647"
     },
     "user_tz": -210
    },
    "id": "U8EPAZA-vxTo",
    "outputId": "a5131c45-f977-4d31-a71e-e2a99b2e441c"
   },
   "outputs": [
    {
     "name": "stdout",
     "output_type": "stream",
     "text": [
      "../../yolov3_weights.h5 model, anchors, and classes loaded.\n"
     ]
    }
   ],
   "source": [
    "class_names = _get_class()\n",
    "anchors = _get_anchors()\n",
    "sess = K.get_session()\n",
    "hsv_tuples = [(x / len(class_names), 1., 1.)\n",
    "              for x in range(len(class_names))]\n",
    "colors = list(map(lambda x: colorsys.hsv_to_rgb(*x), hsv_tuples))\n",
    "colors = list(map(lambda x: (int(x[0] * 255), int(x[1] * 255),\n",
    "                             int(x[2] * 255)),colors))\n",
    "random.seed(10101)  # Fixed seed for consistent colors across runs.\n",
    "# Shuffle colors to decorrelate adjacent classes.\n",
    "random.shuffle(colors)\n",
    "random.seed(None)  # Reset seed to default.\n",
    "model_image_size = (416, 416)  # fixed size or (None, None)\n",
    "Infer_model,boxes, scores, classes,input_image_shape = generate()"
   ]
  },
  {
   "cell_type": "code",
   "execution_count": null,
   "metadata": {
    "colab": {},
    "colab_type": "code",
    "id": "XgH_g1P-vxTt"
   },
   "outputs": [],
   "source": [
    "cap    = cv2.VideoCapture('tt2.avi')\n",
    "fourcc = cv2.VideoWriter_fourcc(*'XVID')\n",
    "width  = cap.get(cv2.CAP_PROP_FRAME_WIDTH)   # float\n",
    "height = cap.get(cv2.CAP_PROP_FRAME_HEIGHT) # float\n",
    "out    = cv2.VideoWriter('tt2.mp4',fourcc, 30.0, (int(width),int(height)))\n",
    "label_size =int((width + height) // 300)\n",
    "he=height/416\n",
    "wi=width /416\n",
    "while(cap.isOpened()):\n",
    "    ret, frame = cap.read()\n",
    "    if ret:\n",
    "        out_boxes, out_scores, out_classes=detect_image(frame,Infer_model,input_image_shape)\n",
    "        for i, c in reversed(list(enumerate(out_classes))):\n",
    "            predicted_class = class_names[c]\n",
    "            box = out_boxes[i]\n",
    "            score = round(float(out_scores[i]),2)\n",
    "            label = '{} {:.2f}'.format(predicted_class, score)\n",
    "            top, left, bottom, right = box\n",
    "            top    = int(max(0, np.floor(he*top + 0.5).astype('int32')))\n",
    "            left   = int(max(0, np.floor(wi*left + 0.5).astype('int32')))\n",
    "            bottom = int(min(height, np.floor(he*bottom + 0.5).astype('int32')))\n",
    "            right  = int(min(width, np.floor(wi*right + 0.5).astype('int32')))\n",
    "            if top - label_size >= 0:\n",
    "                text_origin = np.array([left, top - label_size])\n",
    "            else:\n",
    "                text_origin = np.array([left, top + 1])\n",
    "            cv2.rectangle(frame,(left,top),(right,bottom),colors[c],3)    \n",
    "            cv2.putText(frame,label,tuple(text_origin),font,0.5,colors[c])\n",
    "        out.write(frame)\n",
    "        if cv2.waitKey(1) & 0xFF == ord('q'):\n",
    "            break\n",
    "    else:\n",
    "        break\n",
    "cap.release()\n",
    "out.release()\n",
    "cv2.destroyAllWindows()"
   ]
  },
  {
   "cell_type": "code",
   "execution_count": null,
   "metadata": {
    "colab": {},
    "colab_type": "code",
    "id": "nuDkpulZZTbi"
   },
   "outputs": [],
   "source": []
  }
 ],
 "metadata": {
  "accelerator": "TPU",
  "colab": {
   "collapsed_sections": [],
   "name": "Inference Notebook.ipynb",
   "provenance": [],
   "version": "0.3.2"
  },
  "kernelspec": {
   "display_name": "Python 3",
   "language": "python",
   "name": "python3"
  },
  "language_info": {
   "codemirror_mode": {
    "name": "ipython",
    "version": 3
   },
   "file_extension": ".py",
   "mimetype": "text/x-python",
   "name": "python",
   "nbconvert_exporter": "python",
   "pygments_lexer": "ipython3",
   "version": "3.5.2"
  }
 },
 "nbformat": 4,
 "nbformat_minor": 2
}
